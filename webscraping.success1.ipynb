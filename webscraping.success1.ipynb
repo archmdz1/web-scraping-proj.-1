{
 "cells": [
  {
   "cell_type": "markdown",
   "metadata": {},
   "source": []
  },
  {
   "cell_type": "code",
   "execution_count": 11,
   "metadata": {},
   "outputs": [],
   "source": [
    "import pandas as pd\n",
    "from bs4 import BeautifulSoup\n",
    "import requests\n",
    "import html5lib"
   ]
  },
  {
   "cell_type": "code",
   "execution_count": 12,
   "metadata": {},
   "outputs": [],
   "source": [
    "url = 'https://onepiece.fandom.com/wiki/Popularity_Polls'\n",
    "tableID = 'high-light'\n",
    "\n",
    "response = requests.get(url)\n",
    "soup = BeautifulSoup(response.text, 'html.parser')\n"
   ]
  },
  {
   "cell_type": "code",
   "execution_count": 13,
   "metadata": {},
   "outputs": [],
   "source": [
    "tables = soup.find('table', class_=(tableID))\n",
    "\n",
    "df = pd.read_html(str(tables))\n"
   ]
  },
  {
   "cell_type": "code",
   "execution_count": 14,
   "metadata": {},
   "outputs": [
    {
     "name": "stdout",
     "output_type": "stream",
     "text": [
      "[                    0                                   1               2\n",
      "0                Name                             Attacks  Position-Votes\n",
      "1     Monkey D. Luffy                Gomu Gomu no Gatling       01 (3785)\n",
      "2        Roronoa Zoro                        Sanzen Sekai       02 (3625)\n",
      "3               Sanji                          Muton Shot       03 (1445)\n",
      "4      Portgas D. Ace                               Hiken       04 (1340)\n",
      "5     Monkey D. Luffy                Gomu Gomu no Bazooka        05 (995)\n",
      "6               Sanji             Anti-Manner Kick Course        06 (895)\n",
      "7     Monkey D. Luffy                  Gomu Gomu no Storm        07 (815)\n",
      "8               Sanji           Armée de l'Air Gomu Shoot        08 (695)\n",
      "9     Monkey D. Luffy                 Gomu Gomu no Pistol        09 (552)\n",
      "10       Roronoa Zoro  One Sword Style Iai: Shishi Sonson        10 (410)\n",
      "11       Roronoa Zoro                            Oni Giri        11 (385)\n",
      "12              Usopp                        Usopp Wagōmu        12 (365)\n",
      "13    Monkey D. Luffy             Gomu Gomu no Ogon Rifle        13 (327)\n",
      "14               Foxy                      Noro Noro Beam        14 (252)\n",
      "15       Roronoa Zoro                 Hyakuhachi Pound Hō        15 (219)\n",
      "16              Sanji                           Veau Shot        16 (172)\n",
      "17    Monkey D. Luffy                  Gomu Gomu no Fūsen        17 (162)\n",
      "18               Nami                      Shiawase Punch        18 (139)\n",
      "19    Monkey D. Luffy     Gomu Gomu no Hanabi: Ogon Botan        19 (111)\n",
      "20    Monkey D. Luffy                 Gomu Gomu no Boh...         20 (95)\n",
      "21    Monkey D. Luffy                  Gomu Gomu no Rifle         21 (85)\n",
      "22               Nami                       Tornado Tempo         22 (82)\n",
      "23              Sanji                            Concassé         23 (80)\n",
      "24    Monkey D. Luffy               Gomu Gomu no Dame Da!         24 (76)\n",
      "25                CP9                              Shigan         25 (75)\n",
      "26  Tony Tony Chopper                       Kokutei Roseo         26 (72)\n",
      "27         Dial Users                              Reject         27 (69)\n",
      "28    Monkey D. Luffy                 Gomu Gomu no Bullet         28 (68)\n",
      "29       Roronoa Zoro                        Toro Nagashi         28 (68)\n",
      "30       Roronoa Zoro                       Yaki Oni Giri         30 (60)]\n"
     ]
    }
   ],
   "source": [
    "print(df)"
   ]
  }
 ],
 "metadata": {
  "kernelspec": {
   "display_name": "Python 3",
   "language": "python",
   "name": "python3"
  },
  "language_info": {
   "codemirror_mode": {
    "name": "ipython",
    "version": 3
   },
   "file_extension": ".py",
   "mimetype": "text/x-python",
   "name": "python",
   "nbconvert_exporter": "python",
   "pygments_lexer": "ipython3",
   "version": "3.11.1"
  },
  "orig_nbformat": 4,
  "vscode": {
   "interpreter": {
    "hash": "02f67369589562c6d38c9d5f6c7379ebe528078585162a94ed60fde7fd7048af"
   }
  }
 },
 "nbformat": 4,
 "nbformat_minor": 2
}
